{
 "cells": [
  {
   "cell_type": "markdown",
   "metadata": {
    "deletable": true,
    "editable": true
   },
   "source": [
    "XI. THE NINE SITUATIONS \n",
    "1. Sun Tzŭ said: The art of war recognises nine varieties of ground: \n",
    "        (1) dispersive ground; \n",
    "        (2) facile ground; \n",
    "        (3) contentious ground; \n",
    "        (4) open ground; \n",
    "        (5) ground of intersecting highways; \n",
    "        (6) serious ground; \n",
    "        (7) difficult ground; \n",
    "        (8) hemmed-in ground; \n",
    "        (9) desperate ground.\n",
    "\n",
    "\n",
    "2. When a chieftain is fighting in his own territory, it is dispersive ground. \n",
    "3. When he has penetrated into hostile territory, but to no great distance, it is facile ground.\n",
    "4. Ground the possession of which imports great advantage to either side, is contentious ground.\n",
    "5. Ground on which each side has liberty of movement is open ground. \n",
    "6. Ground which forms the key to three contiguous states, so that he who occupies it first has most of the Empire at his command, is ground of intersecting highways.\n",
    "7. When an army has penetrated into the heart of a hostile country, leaving a number of fortified cities in its rear,  it is serious ground. \n",
    "8. Mountain forests, rugged steeps, marshes and fens—all country that is hard to traverse: this is difficult ground. \n",
    "9. Ground which is reached through narrow gorges, and from which we can only retire by tortuous paths, so that a small number of the enemy would suffice to crush a large body of our men: this is hemmed-in ground.\n",
    "10. Ground on which we can only be saved from destruction by fighting without delay, is desperate ground. \n",
    "\n",
    "\n",
    "11. On dispersive ground, therefore, fight not. On facile ground, halt not. On contentious ground, attack not. \n",
    "12. On open ground, do not try to block the enemy's way. On ground of intersecting highways, join hands with your allies. \n",
    "13. On serious ground, gather in plunder. On difficult ground, keep steadily on the march. \n",
    "14. On hemmed-in ground, resort to stratagem. On desperate ground, fight. \n"
   ]
  },
  {
   "cell_type": "markdown",
   "metadata": {
    "deletable": true,
    "editable": true
   },
   "source": [
    "Isolation game types of \"ground\"\n",
    "\n",
    "    (1) dispersive ground - the opponent has more moves than the player\n",
    "    (2) facile ground - the player has more moves than the opponent\n",
    "    (3) contentious ground - the number of common moves\n",
    "    (4) open ground - center moves\n",
    "    (5) intersecting highways - will ignore for a two player game\n",
    "    (6) serious ground - the opponent has much less moves than the player\n",
    "    (7) difficult ground - precious few available moves for the player\n",
    "    (8) hemmed-in ground - very, very few available moves for the player\n",
    "    (9) desperate ground - dire situation\n",
    "    \n",
    "    \n",
    " Isolation game heuristics\n",
    " \n",
    " \n",
    " 1. penalize the dispersive ground - \n",
    " 2. encourage the facile ground\n",
    " 3. penalize the contentious ground\n",
    " 4. encourage the open ground, penalize the common moves\n",
    " 5. ignored\n",
    " 6. encourage++ the serious ground\n",
    " 7. penalize ++ the difficult ground\n",
    " 8. penalize +++ the hemmed-in ground\n",
    " 9. forfait\n",
    " "
   ]
  },
  {
   "cell_type": "markdown",
   "metadata": {
    "collapsed": true,
    "deletable": true,
    "editable": true
   },
   "source": [
    "# The competing heuristics\n",
    "This is the code of the three heuristics the tournament used:\n",
    "\n",
    "```python\n",
    "def added_centrality_sum_heuristic(game, player):\n",
    "    opponent = game.get_opponent(player)\n",
    "    opponent_moves = game.get_legal_moves(opponent)\n",
    "    player_moves = game.get_legal_moves()\n",
    "    if not opponent_moves:\n",
    "        return float(\"inf\")\n",
    "    if not player_moves:\n",
    "        return float(\"-inf\")\n",
    "    return float(len(player_moves) - len(opponent_moves) + \n",
    "        sum(centrality_measure(game, m) for m in player_moves) + \n",
    "        common_moves_measure(game, player) + \n",
    "        interfering_moves_measure(game, player))\n",
    "\n",
    "def weighted_centrality_heuristic(game, player):\n",
    "\n",
    "  '''\n",
    "    opponent_weight - avoid choices where the opponent has more moves\n",
    "    center_weight - favorize the center more\n",
    "    '''   \n",
    "    if game.is_winner(player) or game.is_loser(player):\n",
    "        return game.utility(player)\n",
    "\n",
    "    central_column = math.ceil(game.width/2.)\n",
    "    central_row = math.ceil(game.height/2.)\n",
    "    num_all_available_moves = float(game.width * game.height)\n",
    "    num_blank_spaces = len(game.get_blank_spaces())\n",
    "    decay = num_blank_spaces/num_all_available_moves\n",
    "\n",
    "    player_moves = game.get_legal_moves(player)\n",
    "    opponent_moves = game.get_legal_moves(game.get_opponent(player))\n",
    "    num_player_moves = len(player_moves)\n",
    "    num_opponent_moves = len( opponent_moves )\n",
    "\n",
    "    player_weight = 1\n",
    "    opponent_weight = 2\n",
    "    center_weight = 2\n",
    "\n",
    "    for move in player_moves:\n",
    "        if move[0] == central_row or move[1] == central_column:\n",
    "            player_weight *= (center_weight * decay)\n",
    "\n",
    "    for move in opponent_moves:\n",
    "        if move[0] == central_row or move[1] == central_column:  \n",
    "            opponent_weight  *= (center_weight * decay)\n",
    "\n",
    "    return float((num_player_moves * player_weight) - \n",
    "        (num_opponent_moves * opponent_weight)) \n",
    "        \n",
    "```"
   ]
  },
  {
   "cell_type": "markdown",
   "metadata": {
    "deletable": true,
    "editable": true
   },
   "source": [
    "# The Sun-Tzu heuristic\n",
    "\n",
    "This heuristic is based on Sun-Tzu recommendations above. We modelled the recommendations via intial weights and the ratio of player vs opponent moves. Through a good amount of trial and error we noticed the heuristic performs differenty over 21,000 games for different  intial weights. We kept the weights for the centrality (open ground) the same.\n",
    "\n",
    "``` python\n",
    "def sun_tzu_heuristic(game, player):\n",
    "\n",
    "    if game.is_winner(player) or game.is_loser(player):\n",
    "        return game.utility(player)\n",
    "\n",
    "    dispersive_ground_weight = 2.0\n",
    "    facile_ground_weight = 4.0\n",
    "    contentious_ground_weight = 2.0\n",
    "    open_ground_weight = 2.0\n",
    "    serious_ground_weight = 8.0\n",
    "    difficult_ground_weight = 4.0\n",
    "    hemmed_in_ground_weight = 8.0\n",
    "\n",
    "    central_column = math.ceil(game.width/2.)\n",
    "    central_row = math.ceil(game.height/2.)\n",
    "    num_all_available_moves = float(game.width * game.height)\n",
    "    num_blank_spaces = len(game.get_blank_spaces())\n",
    "    decay = num_blank_spaces/num_all_available_moves\n",
    "\n",
    "    player_moves = game.get_legal_moves(player)\n",
    "    opponent_moves = game.get_legal_moves(game.get_opponent(player))\n",
    "    num_player_moves = len(player_moves)\n",
    "    num_opponent_moves = len( opponent_moves )\n",
    "    common_moves = len(find_common_moves(game, player))\n",
    "\n",
    "    dispersive_ground = num_opponent_moves/num_player_moves if num_player_moves !=0 else num_opponent_moves\n",
    "    facile_ground = num_player_moves/num_opponent_moves if num_opponent_moves !=0 else num_player_moves\n",
    "    contentious_ground = common_moves/num_blank_spaces if common_moves !=0 else 1.\n",
    "    serious_ground = num_player_moves/num_opponent_moves if num_opponent_moves !=0 else num_player_moves\n",
    "    difficult_ground = num_opponent_moves/num_player_moves if num_player_moves !=0 else num_opponent_moves\n",
    "    hemmed_in_ground = num_opponent_moves/num_player_moves if num_player_moves !=0 else num_opponent_moves\n",
    "\n",
    "    dispersive_ground = dispersive_ground if dispersive_ground !=0 else 1\n",
    "    facile_ground = facile_ground if facile_ground !=0 else 1\n",
    "    serious_ground = serious_ground if serious_ground != 0 else 1\n",
    "    difficult_ground = difficult_ground if difficult_ground !=0 else 1\n",
    "    hemmed_in_ground = hemmed_in_ground if hemmed_in_ground !=0 else 1\n",
    "\n",
    "    player_weight=1.0\n",
    "    opponent_weight = 2.0\n",
    "\n",
    "    #handle open_ground/center moves\n",
    "    for move in player_moves:\n",
    "        if move[0] == central_row or move[1] == central_column:\n",
    "            player_weight *= (open_ground_weight * decay)\n",
    "\n",
    "    for move in opponent_moves:\n",
    "        if move[0] == central_row or move[1] == central_column:  \n",
    "            opponent_weight  *= (open_ground_weight * decay)\n",
    "\n",
    "    #factor ground weights only once\n",
    "    player_weight *= facile_ground_weight*serious_ground_weight\n",
    "    opponent_weight *= dispersive_ground_weight*contentious_ground_weight*difficult_ground_weight*hemmed_in_ground_weight\n",
    "\n",
    "    player_weight *= (decay * facile_ground) * (decay * serious_ground)\n",
    "    opponent_weight *= (decay * dispersive_ground) * (decay * contentious_ground) * (decay * difficult_ground) * (decay * hemmed_in_ground)\n",
    "\n",
    "    return float((num_player_moves * player_weight) - \n",
    "        (num_opponent_moves * opponent_weight))            \n",
    "\n",
    "```"
   ]
  },
  {
   "cell_type": "code",
   "execution_count": 1,
   "metadata": {
    "collapsed": false,
    "deletable": true,
    "editable": true
   },
   "outputs": [],
   "source": [
    "import pandas as pd\n",
    "import matplotlib.pyplot as plt\n",
    "from scipy import stats\n",
    "import seaborn as sn"
   ]
  },
  {
   "cell_type": "markdown",
   "metadata": {},
   "source": [
    "The data set contains the win rates for 330 runs of the tournament.py. Each tournament plays 70 games for each custom agent in competition. There are about 23,100 games played for each heuristic."
   ]
  },
  {
   "cell_type": "code",
   "execution_count": 13,
   "metadata": {
    "collapsed": false,
    "deletable": true,
    "editable": true
   },
   "outputs": [
    {
     "data": {
      "text/html": [
       "<div>\n",
       "<table border=\"1\" class=\"dataframe\">\n",
       "  <thead>\n",
       "    <tr style=\"text-align: right;\">\n",
       "      <th></th>\n",
       "      <th>AB_Improved</th>\n",
       "      <th>AB_Custom</th>\n",
       "      <th>AB_Custom2</th>\n",
       "      <th>AB_Custom3</th>\n",
       "      <th>Batch</th>\n",
       "    </tr>\n",
       "  </thead>\n",
       "  <tbody>\n",
       "    <tr>\n",
       "      <th>0</th>\n",
       "      <td>61.4</td>\n",
       "      <td>52.9</td>\n",
       "      <td>58.6</td>\n",
       "      <td>65.7</td>\n",
       "      <td>2</td>\n",
       "    </tr>\n",
       "    <tr>\n",
       "      <th>1</th>\n",
       "      <td>54.3</td>\n",
       "      <td>55.7</td>\n",
       "      <td>61.4</td>\n",
       "      <td>57.1</td>\n",
       "      <td>2</td>\n",
       "    </tr>\n",
       "    <tr>\n",
       "      <th>2</th>\n",
       "      <td>62.9</td>\n",
       "      <td>58.6</td>\n",
       "      <td>65.7</td>\n",
       "      <td>58.6</td>\n",
       "      <td>2</td>\n",
       "    </tr>\n",
       "    <tr>\n",
       "      <th>3</th>\n",
       "      <td>60.0</td>\n",
       "      <td>61.4</td>\n",
       "      <td>55.7</td>\n",
       "      <td>51.4</td>\n",
       "      <td>2</td>\n",
       "    </tr>\n",
       "    <tr>\n",
       "      <th>4</th>\n",
       "      <td>60.0</td>\n",
       "      <td>61.4</td>\n",
       "      <td>71.4</td>\n",
       "      <td>65.7</td>\n",
       "      <td>3</td>\n",
       "    </tr>\n",
       "  </tbody>\n",
       "</table>\n",
       "</div>"
      ],
      "text/plain": [
       "   AB_Improved  AB_Custom  AB_Custom2  AB_Custom3  Batch\n",
       "0         61.4       52.9        58.6        65.7      2\n",
       "1         54.3       55.7        61.4        57.1      2\n",
       "2         62.9       58.6        65.7        58.6      2\n",
       "3         60.0       61.4        55.7        51.4      2\n",
       "4         60.0       61.4        71.4        65.7      3"
      ]
     },
     "execution_count": 13,
     "metadata": {},
     "output_type": "execute_result"
    }
   ],
   "source": [
    "tournament_results = pd.read_csv('variant-1.csv')\n",
    "tournament_results.head()\n",
    "#tournament_results[\"AB_Custom3\"]"
   ]
  },
  {
   "cell_type": "code",
   "execution_count": 15,
   "metadata": {
    "collapsed": false
   },
   "outputs": [
    {
     "data": {
      "text/html": [
       "<div>\n",
       "<table border=\"1\" class=\"dataframe\">\n",
       "  <thead>\n",
       "    <tr style=\"text-align: right;\">\n",
       "      <th></th>\n",
       "      <th>AB_Improved</th>\n",
       "      <th>AB_Custom</th>\n",
       "      <th>AB_Custom2</th>\n",
       "      <th>AB_Custom3</th>\n",
       "    </tr>\n",
       "  </thead>\n",
       "  <tbody>\n",
       "    <tr>\n",
       "      <th>count</th>\n",
       "      <td>330.000000</td>\n",
       "      <td>330.000000</td>\n",
       "      <td>330.000000</td>\n",
       "      <td>330.000000</td>\n",
       "    </tr>\n",
       "    <tr>\n",
       "      <th>mean</th>\n",
       "      <td>63.904848</td>\n",
       "      <td>58.102424</td>\n",
       "      <td>64.298182</td>\n",
       "      <td>63.570000</td>\n",
       "    </tr>\n",
       "    <tr>\n",
       "      <th>std</th>\n",
       "      <td>4.544114</td>\n",
       "      <td>4.710719</td>\n",
       "      <td>4.830979</td>\n",
       "      <td>4.200497</td>\n",
       "    </tr>\n",
       "    <tr>\n",
       "      <th>min</th>\n",
       "      <td>50.000000</td>\n",
       "      <td>44.300000</td>\n",
       "      <td>50.000000</td>\n",
       "      <td>51.400000</td>\n",
       "    </tr>\n",
       "    <tr>\n",
       "      <th>25%</th>\n",
       "      <td>61.400000</td>\n",
       "      <td>54.300000</td>\n",
       "      <td>61.400000</td>\n",
       "      <td>61.400000</td>\n",
       "    </tr>\n",
       "    <tr>\n",
       "      <th>50%</th>\n",
       "      <td>64.300000</td>\n",
       "      <td>58.600000</td>\n",
       "      <td>64.300000</td>\n",
       "      <td>64.300000</td>\n",
       "    </tr>\n",
       "    <tr>\n",
       "      <th>75%</th>\n",
       "      <td>67.100000</td>\n",
       "      <td>61.400000</td>\n",
       "      <td>67.100000</td>\n",
       "      <td>67.100000</td>\n",
       "    </tr>\n",
       "    <tr>\n",
       "      <th>max</th>\n",
       "      <td>75.700000</td>\n",
       "      <td>68.600000</td>\n",
       "      <td>78.600000</td>\n",
       "      <td>75.700000</td>\n",
       "    </tr>\n",
       "  </tbody>\n",
       "</table>\n",
       "</div>"
      ],
      "text/plain": [
       "       AB_Improved   AB_Custom  AB_Custom2  AB_Custom3\n",
       "count   330.000000  330.000000  330.000000  330.000000\n",
       "mean     63.904848   58.102424   64.298182   63.570000\n",
       "std       4.544114    4.710719    4.830979    4.200497\n",
       "min      50.000000   44.300000   50.000000   51.400000\n",
       "25%      61.400000   54.300000   61.400000   61.400000\n",
       "50%      64.300000   58.600000   64.300000   64.300000\n",
       "75%      67.100000   61.400000   67.100000   67.100000\n",
       "max      75.700000   68.600000   78.600000   75.700000"
      ]
     },
     "execution_count": 15,
     "metadata": {},
     "output_type": "execute_result"
    }
   ],
   "source": [
    "tournament_results[[0, 1, 2, 3]].describe()"
   ]
  },
  {
   "cell_type": "code",
   "execution_count": 11,
   "metadata": {
    "collapsed": false
   },
   "outputs": [
    {
     "data": {
      "image/png": "[encoded data removed]",
      "text/plain": [
       "<matplotlib.figure.Figure at 0x27d92821630>"
      ]
     },
     "metadata": {},
     "output_type": "display_data"
    }
   ],
   "source": [
    "sn.violinplot(data=tournament_results[[0, 1, 2, 3]], split=True)\n",
    "plt.ylabel('Win Rates')\n",
    "plt.xlabel('Heuristic')\n",
    "plt.show()"
   ]
  },
  {
   "cell_type": "markdown",
   "metadata": {},
   "source": [
    "## Hypothesis\n",
    "We'd like to determine if there is a significant difference in the mean win rates recorded for the AB_Improved heuristic and the  win rates recorded for the Sun Tzu heuristic with the parameters above. The AB_Improved heuristic scored a mean average of $\\bar{x}_h=63.904848$. The mean average for the Sun Tzu Heuristic is $\\bar{x}_f=63.570000$ We choose as our test criterium an alpha level of 5%. So our hypothesis states:\n",
    "\n",
    "|Hypothesis||$\\alpha = .05$|\n",
    "|---:|:---:|---|:---|\n",
    "|$H_0:$|$\\mu_h = \\mu_f$|There is no significant difference in mean win rates for the two heurisics|\n",
    "|$H_a:$|$\\mu_h \\neq \\mu_f$|There is a significant difference in mean win rates for the two heuristics|\n",
    "\n",
    "Note that the hypothesis is written to denote the whole population, not just the sample."
   ]
  },
  {
   "cell_type": "code",
   "execution_count": 17,
   "metadata": {
    "collapsed": false,
    "deletable": true,
    "editable": true
   },
   "outputs": [
    {
     "data": {
      "text/plain": [
       "(1.0312133207383287, 0.30319826440468789)"
      ]
     },
     "execution_count": 17,
     "metadata": {},
     "output_type": "execute_result"
    }
   ],
   "source": [
    "t_statistic, p = stats.ttest_rel(tournament_results[\"AB_Improved\"], tournament_results[\"AB_Custom3\"])\n",
    "t_statistic, p"
   ]
  },
  {
   "cell_type": "code",
   "execution_count": 18,
   "metadata": {
    "collapsed": false,
    "deletable": true,
    "editable": true
   },
   "outputs": [
    {
     "data": {
      "text/plain": [
       "False"
      ]
     },
     "execution_count": 18,
     "metadata": {},
     "output_type": "execute_result"
    }
   ],
   "source": [
    "# To test our alternative hypothesis\n",
    "alpha = .05\n",
    "p < alpha / 2 # two sided"
   ]
  },
  {
   "cell_type": "markdown",
   "metadata": {},
   "source": [
    "There is no statistical difference between AB_Improved and the Sun Tzu Heuristic. We perform the same check for the AB_Custom heuristic."
   ]
  },
  {
   "cell_type": "code",
   "execution_count": 19,
   "metadata": {
    "collapsed": false
   },
   "outputs": [
    {
     "data": {
      "text/plain": [
       "(16.241661188205565, 5.6696441599584396e-44)"
      ]
     },
     "execution_count": 19,
     "metadata": {},
     "output_type": "execute_result"
    }
   ],
   "source": [
    "t_statistic, p = stats.ttest_rel(tournament_results[\"AB_Improved\"], tournament_results[\"AB_Custom\"])\n",
    "t_statistic, p"
   ]
  },
  {
   "cell_type": "code",
   "execution_count": 20,
   "metadata": {
    "collapsed": false
   },
   "outputs": [
    {
     "data": {
      "text/plain": [
       "True"
      ]
     },
     "execution_count": 20,
     "metadata": {},
     "output_type": "execute_result"
    }
   ],
   "source": [
    "# To test our alternative hypothesis\n",
    "alpha = .05\n",
    "p < alpha / 2 # two sided"
   ]
  },
  {
   "cell_type": "markdown",
   "metadata": {},
   "source": [
    "In this case we could say that the AB_Custom heuristic is worse than the AB_Improved heurstic since it has a statistically lower win rate."
   ]
  },
  {
   "cell_type": "code",
   "execution_count": null,
   "metadata": {
    "collapsed": true
   },
   "outputs": [],
   "source": []
  }
 ],
 "metadata": {
  "kernelspec": {
   "display_name": "Python 3",
   "language": "python",
   "name": "python3"
  },
  "language_info": {
   "codemirror_mode": {
    "name": "ipython",
    "version": 3
   },
   "file_extension": ".py",
   "mimetype": "text/x-python",
   "name": "python",
   "nbconvert_exporter": "python",
   "pygments_lexer": "ipython3",
   "version": "3.6.0"
  }
 },
 "nbformat": 4,
 "nbformat_minor": 2
}
